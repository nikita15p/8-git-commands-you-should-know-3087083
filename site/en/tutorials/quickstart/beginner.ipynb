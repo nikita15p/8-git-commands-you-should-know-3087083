{
  "cells": [
    {
      "cell_type": "markdown",
      "source": [
        "# New Section"
      ],
      "metadata": {
        "id": "SQ-pbET4QL2s"
      }
    },
    {
      "cell_type": "code",
      "source": [
        "print(\"This is how it is\")"
      ],
      "metadata": {
        "id": "kSkSkxUYQOLo",
        "outputId": "9eb98a2e-ec96-4863-fa26-d9ed19ce06d3",
        "colab": {
          "base_uri": "https://localhost:8080/"
        }
      },
      "execution_count": 1,
      "outputs": [
        {
          "output_type": "stream",
          "name": "stdout",
          "text": [
            "This is how it is\n"
          ]
        }
      ]
    }
  ],
  "metadata": {
    "colab": {
      "name": "beginner.ipynb",
      "toc_visible": true,
      "provenance": []
    },
    "kernelspec": {
      "display_name": "Python 3",
      "name": "python3"
    }
  },
  "nbformat": 4,
  "nbformat_minor": 0
}